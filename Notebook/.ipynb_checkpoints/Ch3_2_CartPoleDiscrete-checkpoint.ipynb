{
 "cells": [
  {
   "cell_type": "code",
   "execution_count": 2,
   "metadata": {},
   "outputs": [],
   "source": [
    "# 구현에 사용할 패키지 임포트\n",
    "import numpy as np\n",
    "import matplotlib.pyplot as plt\n",
    "%matplotlib inline\n",
    "import gym\n",
    "\n",
    "# 상수 정의\n",
    "ENV = 'CartPole-v0' # 태스크 이름\n",
    "NUM_DIZITIZED  = 6 # 각 상태를 이산변수로 변환할 구간 수\n",
    "\n",
    "# CartPole 실행\n",
    "env = gym.make(ENV) # 실행할 태스크 설정\n",
    "observation = env.reset()"
   ]
  },
  {
   "cell_type": "code",
   "execution_count": null,
   "metadata": {},
   "outputs": [],
   "source": [
    "# 이산 값으로 만들 구간 계산\n",
    "def bins(clip_min, clip_max, num):\n",
    "    '''관측된 상태(연속값)를 이산값으로 변환하는 구간을 계산'''\n",
    "    return np.linspace(clip_min, clip_max, num+1)[1:-1]\n",
    "    # 예시: np.linspace(-2.4, 2.4, 6 +1) => -2.4 부터 2.4까지 6개의 간격을 가지게 분할!\n",
    "    #       = [-2.4, -1.6, -0.8, 0, 0.8, 1.6, 2.4]\n",
    "    # 첫번째 요소와 마지막 요소를 뺀 부분 리스트를 사용할 것이기 때문에 [1:-1]로 리스트를 잘라냄\n",
    "    # 주의! : 파이썬의 리스트 슬라이싱에서 [-1]은 리스트의 맨 마지막 요소를 의미하지만\n",
    "    #         [1:-1]과 같이 범위를 나타낼 때에 1은 앞에서 두번째, -1은 뒤에서 두번째 요소를 의미한다.\n",
    "\n",
    "def digitize_state(observation):\n",
    "    '''관측된 상태(observation 변수)를 이산값으로 변환'''\n",
    "    cart_pos, cart_v, pole_angle, pole_v = observation\n",
    "    digitized = [\n",
    "        np.digitize(cart_pos, bins=bins(-2.4, 2.4, NUM_DIZITIZED)),\n",
    "        np.digitize(cart_v, bins=bins(-3.0, 3.0, NUM_DIZITIZED)),\n",
    "        np.digitize(pole_angle, bins=bins(-2.0, 2.0, NUM_DIZITIZED)),\n",
    "        np.digitize(pole_v, bins=bins(-2.0, 2.0, NUM_DIZITIZED))]\n",
    "        # np.digitize(A, bins=B) => 리스트 A를 bins에 정의된 구간값에 따라 이산값으로 변환\n",
    "    return sum([x * (NUM_DIZITIZED**i) for i, x in enumerate(digitized)])\n",
    "    # 이산값으로 변환한 4개의 변수를 모두 합쳐 0부터 1295 사이의 값으로 변환한 것!\n",
    "    # NUM_DIZITIZED = 몇 진수로 나타낼 것인지! 여기서는 구간을 6개로 나누었기 때문에 6으로 사용!"
   ]
  }
 ],
 "metadata": {
  "kernelspec": {
   "display_name": "Python 3",
   "language": "python",
   "name": "python3"
  },
  "language_info": {
   "codemirror_mode": {
    "name": "ipython",
    "version": 3
   },
   "file_extension": ".py",
   "mimetype": "text/x-python",
   "name": "python",
   "nbconvert_exporter": "python",
   "pygments_lexer": "ipython3",
   "version": "3.6.7"
  }
 },
 "nbformat": 4,
 "nbformat_minor": 2
}
