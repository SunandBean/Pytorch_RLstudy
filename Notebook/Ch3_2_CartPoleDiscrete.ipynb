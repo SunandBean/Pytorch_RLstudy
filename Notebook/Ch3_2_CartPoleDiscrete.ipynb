{
 "cells": [
  {
   "cell_type": "code",
   "execution_count": 2,
   "metadata": {},
   "outputs": [],
   "source": [
    "# 구현에 사용할 패키지 임포트\n",
    "import numpy as np\n",
    "import matplotlib.pyplot as plt\n",
    "%matplotlib inline\n",
    "import gym\n",
    "\n",
    "# 상수 정의\n",
    "ENV = 'CartPole-v0' # 태스크 이름\n",
    "NUM_DIZITIZED  = 6 # 각 상태를 이산변수로 변환할 구간 수\n",
    "\n",
    "# CartPole 실행\n",
    "env = gym.make(ENV) # 실행할 태스크 설정\n",
    "observation = env.reset()"
   ]
  },
  {
   "cell_type": "code",
   "execution_count": null,
   "metadata": {},
   "outputs": [],
   "source": [
    "# 이산 값으로 만들 구간 계산\n",
    "def bins(clip_min, clip_max, num):\n",
    "    '''관측된 상태(연속값)를 이산값으로 변환하는 구간을 계산'''\n",
    "    return np.linspace(clip_min, clip_max, num+1)[1:-1]\n",
    "\n",
    "def digitize_state(observation):\n",
    "    '''관측된 상태(observation 변수)를 이산값으로 변환'''\n",
    "    cart_pos, cart_v, pole_angle, pole_v = observation\n",
    "    digitized = [\n",
    "        np.digitize(cart_pos, bins=bins(-2.4, 2.4, NUM_DIZITIZED)),\n",
    "        np.digitize(cart_v, bins=bins(-3.0, 3.0, NUM_DIZITIZED)),\n",
    "        np.digitize(pole_angle, bins=bins(-2.0, 2.0, NUM_DIZITIZED)),\n",
    "        np.digitize(pole_v, bins=bins(-2.0, 2.0, NUM_DIZITIZED))]\n",
    "    return sum([x * (NUM_DIZITIZED**i) for i, x in enumerate(digitized)])"
   ]
  }
 ],
 "metadata": {
  "kernelspec": {
   "display_name": "Python 3",
   "language": "python",
   "name": "python3"
  },
  "language_info": {
   "codemirror_mode": {
    "name": "ipython",
    "version": 3
   },
   "file_extension": ".py",
   "mimetype": "text/x-python",
   "name": "python",
   "nbconvert_exporter": "python",
   "pygments_lexer": "ipython3",
   "version": "3.6.7"
  }
 },
 "nbformat": 4,
 "nbformat_minor": 2
}
